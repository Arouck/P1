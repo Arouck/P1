{
 "cells": [
  {
   "cell_type": "code",
   "execution_count": 42,
   "metadata": {},
   "outputs": [],
   "source": [
    "import numpy as np\n",
    "import matplotlib.pyplot as plt\n",
    "import seaborn as sns"
   ]
  },
  {
   "cell_type": "code",
   "execution_count": 91,
   "metadata": {},
   "outputs": [],
   "source": [
    "with open('../results/times.txt') as f:\n",
    "    times = f.readlines()"
   ]
  },
  {
   "cell_type": "code",
   "execution_count": 92,
   "metadata": {},
   "outputs": [
    {
     "data": {
      "text/plain": [
       "[7.000207901000977,\n",
       " 10.002374649047852,\n",
       " 8.006095886230469,\n",
       " 11.993646621704102,\n",
       " 11.001825332641602,\n",
       " 15.998363494873047]"
      ]
     },
     "execution_count": 92,
     "metadata": {},
     "output_type": "execute_result"
    }
   ],
   "source": [
    "times = [float(time.strip()) for time in times]\n",
    "times"
   ]
  },
  {
   "cell_type": "markdown",
   "metadata": {},
   "source": [
    "Para calcular o intervalo de confiança, necessitamos realizar um grande número de amostras aleatórias da população original de tempos para cada operação (neste caso, 10.000), após isso, realiza-se o cálculo dos limites inferior e superior, por meio do cálculo dos números no percentil 2.5% e 97.5%, para obtermos 95% de confiança."
   ]
  },
  {
   "cell_type": "code",
   "execution_count": 85,
   "metadata": {},
   "outputs": [
    {
     "data": {
      "text/plain": [
       "10.673754783471425"
      ]
     },
     "execution_count": 85,
     "metadata": {},
     "output_type": "execute_result"
    }
   ],
   "source": [
    "sample_means = []\n",
    "\n",
    "for _ in range(10000):\n",
    "    bootstrap = np.random.choice(means, 6, replace=True)\n",
    "    sample_means.append(bootstrap.mean())\n",
    "    \n",
    "np.mean(sample_means)"
   ]
  },
  {
   "cell_type": "code",
   "execution_count": 86,
   "metadata": {},
   "outputs": [
    {
     "data": {
      "text/plain": [
       "(8.502801259358725, 13.000806172688803)"
      ]
     },
     "execution_count": 86,
     "metadata": {},
     "output_type": "execute_result"
    }
   ],
   "source": [
    "np.percentile(sample_means, 2.5), np.percentile(sample_means, 97.5)"
   ]
  },
  {
   "cell_type": "markdown",
   "metadata": {},
   "source": [
    "Agora podemos dizer, com 95% de confiança, que o tempo de execução médio das 6 operações encontra-se no intervalo [8.5, 13.16]."
   ]
  },
  {
   "cell_type": "code",
   "execution_count": 87,
   "metadata": {},
   "outputs": [
    {
     "data": {
      "text/plain": [
       "{'Adicionar exp. em perfil': 7.000207901000977,\n",
       " 'Listar exp. pelo email': 8.006095886230469,\n",
       " 'Listar info. pelo e-mail': 10.002374649047852,\n",
       " 'Listar exp. por cidade': 11.001825332641602,\n",
       " 'Listar perfis por faculdade': 11.993646621704102,\n",
       " 'Listar todos os perfis': 15.998363494873047}"
      ]
     },
     "execution_count": 87,
     "metadata": {},
     "output_type": "execute_result"
    }
   ],
   "source": [
    "x_axis = ['Adicionar exp. em perfil', 'Listar info. pelo e-mail', 'Listar exp. pelo email', \n",
    "          'Listar perfis por faculdade', 'Listar exp. por cidade', 'Listar todos os perfis']\n",
    "\n",
    "times_dict = dict(zip(x_axis, means))\n",
    "times_sorted = dict(sorted(values.items(), key=lambda item: item[1]))\n",
    "times_sorted"
   ]
  },
  {
   "cell_type": "code",
   "execution_count": 89,
   "metadata": {},
   "outputs": [
    {
     "data": {
      "image/png": "[encoded data removed]",
      "text/plain": [
       "<Figure size 432x288 with 1 Axes>"
      ]
     },
     "metadata": {
      "needs_background": "light"
     },
     "output_type": "display_data"
    },
    {
     "data": {
      "text/plain": [
       "<Figure size 3600x3098.64 with 0 Axes>"
      ]
     },
     "metadata": {},
     "output_type": "display_data"
    }
   ],
   "source": [
    "sns.barplot(x=list(times_sorted.values()), y=list(times_sorted.keys()), palette='coolwarm')\n",
    "plt.title('Tempo para executar cada operação 20 vezes')\n",
    "plt.xlabel('ms')\n",
    "plt.ylabel('Operação')\n",
    "plt.figure(figsize=(50, 50/1.1618));"
   ]
  }
 ],
 "metadata": {
  "kernelspec": {
   "display_name": "Python 3",
   "language": "python",
   "name": "python3"
  },
  "language_info": {
   "codemirror_mode": {
    "name": "ipython",
    "version": 3
   },
   "file_extension": ".py",
   "mimetype": "text/x-python",
   "name": "python",
   "nbconvert_exporter": "python",
   "pygments_lexer": "ipython3",
   "version": "3.7.4"
  }
 },
 "nbformat": 4,
 "nbformat_minor": 4
}
